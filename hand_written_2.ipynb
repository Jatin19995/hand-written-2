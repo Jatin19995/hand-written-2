{
  "nbformat": 4,
  "nbformat_minor": 0,
  "metadata": {
    "colab": {
      "provenance": []
    },
    "kernelspec": {
      "name": "python3",
      "display_name": "Python 3"
    },
    "language_info": {
      "name": "python"
    }
  },
  "cells": [
    {
      "cell_type": "code",
      "execution_count": 48,
      "metadata": {
        "id": "S9CU_YA7PKNW"
      },
      "outputs": [],
      "source": [
        "import numpy as np\n",
        "import matplotlib.pyplot as plt\n",
        "\n",
        "import keras\n",
        "from keras. datasets import mnist\n",
        "\n",
        "from keras.models import Sequential\n",
        "from keras.layers import Dense, Conv2D, MaxPool2D, Flatten, Dropout"
      ]
    },
    {
      "cell_type": "markdown",
      "source": [
        "Get the data and pre process it"
      ],
      "metadata": {
        "id": "x3sSP-PsQlqB"
      }
    },
    {
      "cell_type": "code",
      "source": [
        "(X_train, y_train), (X_test, y_test) = mnist.load_data()"
      ],
      "metadata": {
        "id": "yGMSsu3jQVLF"
      },
      "execution_count": 49,
      "outputs": []
    },
    {
      "cell_type": "code",
      "source": [
        "X_train.shape , y_train.shape , X_test.shape , y_test.shape"
      ],
      "metadata": {
        "colab": {
          "base_uri": "https://localhost:8080/"
        },
        "id": "f9XmPiRlRHIg",
        "outputId": "1d204762-3e09-4d2b-a124-ae04f39a9d2b"
      },
      "execution_count": 50,
      "outputs": [
        {
          "output_type": "execute_result",
          "data": {
            "text/plain": [
              "((60000, 28, 28), (60000,), (10000, 28, 28), (10000,))"
            ]
          },
          "metadata": {},
          "execution_count": 50
        }
      ]
    },
    {
      "cell_type": "code",
      "source": [
        "def plot_input_img(i):\n",
        "  plt.imshow(X_train[i], cmap='binary')\n",
        "  plt.title(y_train[i])\n",
        "  plt.show()"
      ],
      "metadata": {
        "id": "Jng3EscvRt96"
      },
      "execution_count": 51,
      "outputs": []
    },
    {
      "cell_type": "code",
      "source": [
        "for i in range(10):\n",
        "  plot_input_img(i)"
      ],
      "metadata": {
        "id": "vlN3UakISGdN"
      },
      "execution_count": null,
      "outputs": []
    },
    {
      "cell_type": "markdown",
      "source": [
        "Preprocess the image"
      ],
      "metadata": {
        "id": "nRRk2AU3XuYy"
      }
    },
    {
      "cell_type": "code",
      "source": [
        "X_train = X_train.astype(np.float32)/255\n",
        "X_test = X_test.astype(np.float32)/255\n",
        "\n",
        "X_train =np.expand_dims (X_train, -1)\n",
        "X_test =np.expand_dims(X_test, -1)"
      ],
      "metadata": {
        "id": "2n4DZNDITIHU"
      },
      "execution_count": 54,
      "outputs": []
    },
    {
      "cell_type": "code",
      "source": [
        "X_train.shape"
      ],
      "metadata": {
        "colab": {
          "base_uri": "https://localhost:8080/"
        },
        "id": "wfg6BYaDYalq",
        "outputId": "ef196258-7abd-40ee-916a-eab82af95896"
      },
      "execution_count": 55,
      "outputs": [
        {
          "output_type": "execute_result",
          "data": {
            "text/plain": [
              "(60000, 28, 28, 1)"
            ]
          },
          "metadata": {},
          "execution_count": 55
        }
      ]
    },
    {
      "cell_type": "markdown",
      "source": [
        "convert classes to one hot vector"
      ],
      "metadata": {
        "id": "9aAdbqOZZzxx"
      }
    },
    {
      "cell_type": "code",
      "source": [
        "y_train=keras.utils.to_categorical(y_train)\n",
        "y_test=keras.utils.to_categorical(y_test)"
      ],
      "metadata": {
        "id": "Pd5pTYuwY_da"
      },
      "execution_count": 56,
      "outputs": []
    },
    {
      "cell_type": "code",
      "source": [
        "y_train"
      ],
      "metadata": {
        "id": "b-_fb4mKZcAg",
        "colab": {
          "base_uri": "https://localhost:8080/"
        },
        "outputId": "7cd40d23-af40-4228-f995-752616d22206"
      },
      "execution_count": 57,
      "outputs": [
        {
          "output_type": "execute_result",
          "data": {
            "text/plain": [
              "array([[0., 0., 0., ..., 0., 0., 0.],\n",
              "       [1., 0., 0., ..., 0., 0., 0.],\n",
              "       [0., 0., 0., ..., 0., 0., 0.],\n",
              "       ...,\n",
              "       [0., 0., 0., ..., 0., 0., 0.],\n",
              "       [0., 0., 0., ..., 0., 0., 0.],\n",
              "       [0., 0., 0., ..., 0., 1., 0.]], dtype=float32)"
            ]
          },
          "metadata": {},
          "execution_count": 57
        }
      ]
    },
    {
      "cell_type": "code",
      "source": [
        "model = Sequential()\n",
        "3,3\n",
        "model.add(Conv2D(32, (3,3), input_shape = (28, 28, 1), activation = 'relu'))\n",
        "model.add(MaxPool2D ((2,2)))\n",
        "\n",
        "model.add(Conv2D(64, (3,3), activation = 'relu'))\n",
        "model.add(MaxPool2D ((2,2)))\n",
        "\n",
        "model.add(Flatten())\n",
        "\n",
        "model.add(Dropout(0.25))\n",
        "\n",
        "model.add(Dense(10, activation='softmax'))"
      ],
      "metadata": {
        "id": "zzVRrFXcZf5q"
      },
      "execution_count": 64,
      "outputs": []
    },
    {
      "cell_type": "code",
      "source": [
        "model.summary()"
      ],
      "metadata": {
        "id": "d10V9SMBcCvY",
        "colab": {
          "base_uri": "https://localhost:8080/"
        },
        "outputId": "774321ac-3f64-4229-fb53-081a35864803"
      },
      "execution_count": 65,
      "outputs": [
        {
          "output_type": "stream",
          "name": "stdout",
          "text": [
            "Model: \"sequential_8\"\n",
            "_________________________________________________________________\n",
            " Layer (type)                Output Shape              Param #   \n",
            "=================================================================\n",
            " conv2d_13 (Conv2D)          (None, 26, 26, 32)        320       \n",
            "                                                                 \n",
            " max_pooling2d_11 (MaxPooli  (None, 13, 13, 32)        0         \n",
            " ng2D)                                                           \n",
            "                                                                 \n",
            " conv2d_14 (Conv2D)          (None, 11, 11, 64)        18496     \n",
            "                                                                 \n",
            " max_pooling2d_12 (MaxPooli  (None, 5, 5, 64)          0         \n",
            " ng2D)                                                           \n",
            "                                                                 \n",
            " flatten_4 (Flatten)         (None, 1600)              0         \n",
            "                                                                 \n",
            " dropout_4 (Dropout)         (None, 1600)              0         \n",
            "                                                                 \n",
            " dense_4 (Dense)             (None, 10)                16010     \n",
            "                                                                 \n",
            "=================================================================\n",
            "Total params: 34826 (136.04 KB)\n",
            "Trainable params: 34826 (136.04 KB)\n",
            "Non-trainable params: 0 (0.00 Byte)\n",
            "_________________________________________________________________\n"
          ]
        }
      ]
    },
    {
      "source": [
        "#callbacks\n",
        "from keras.callbacks import EarlyStopping, ModelCheckpoint\n",
        "\n",
        "#Earlystopping\n",
        "es = EarlyStopping(monitor ='val_acc', min_delta= 0.01, patience= 4, verbose=1)\n",
        "\n",
        "#Model check Point\n",
        "mc = ModelCheckpoint(\"./bestmodel.h5\", monitor= \"val_acc\", verbose=1, save_best_only=True)\n",
        "\n",
        "cb =[es,mc]"
      ],
      "cell_type": "code",
      "metadata": {
        "id": "PZfVy57VoOs2"
      },
      "execution_count": 66,
      "outputs": []
    },
    {
      "cell_type": "markdown",
      "source": [
        "# **Model Traning**"
      ],
      "metadata": {
        "id": "tmQe4rfbolcg"
      }
    },
    {
      "cell_type": "code",
      "source": [
        "model.compile(optimizer='adam', loss = keras.losses.categorical_crossentropy, metrics=['accuracy'])\n",
        "his = model.fit(X_train, y_train, epochs=50, validation_split=0.3)"
      ],
      "metadata": {
        "id": "ztgZ4-OhmFTJ",
        "colab": {
          "base_uri": "https://localhost:8080/"
        },
        "outputId": "949b963b-a6e4-460e-918b-80d6a5dced54"
      },
      "execution_count": 67,
      "outputs": [
        {
          "output_type": "stream",
          "name": "stdout",
          "text": [
            "Epoch 1/50\n",
            "1313/1313 [==============================] - 40s 29ms/step - loss: 0.2186 - accuracy: 0.9336 - val_loss: 0.0845 - val_accuracy: 0.9746\n",
            "Epoch 2/50\n",
            "1313/1313 [==============================] - 38s 29ms/step - loss: 0.0720 - accuracy: 0.9773 - val_loss: 0.0688 - val_accuracy: 0.9778\n",
            "Epoch 3/50\n",
            "1313/1313 [==============================] - 39s 29ms/step - loss: 0.0534 - accuracy: 0.9834 - val_loss: 0.0454 - val_accuracy: 0.9857\n",
            "Epoch 4/50\n",
            "1313/1313 [==============================] - 36s 27ms/step - loss: 0.0420 - accuracy: 0.9869 - val_loss: 0.0503 - val_accuracy: 0.9846\n",
            "Epoch 5/50\n",
            "1313/1313 [==============================] - 38s 29ms/step - loss: 0.0372 - accuracy: 0.9879 - val_loss: 0.0398 - val_accuracy: 0.9887\n",
            "Epoch 6/50\n",
            "1313/1313 [==============================] - 37s 28ms/step - loss: 0.0315 - accuracy: 0.9905 - val_loss: 0.0395 - val_accuracy: 0.9884\n",
            "Epoch 7/50\n",
            "1313/1313 [==============================] - 37s 28ms/step - loss: 0.0260 - accuracy: 0.9919 - val_loss: 0.0468 - val_accuracy: 0.9871\n",
            "Epoch 8/50\n",
            "1313/1313 [==============================] - 37s 28ms/step - loss: 0.0232 - accuracy: 0.9927 - val_loss: 0.0456 - val_accuracy: 0.9867\n",
            "Epoch 9/50\n",
            "1313/1313 [==============================] - 39s 30ms/step - loss: 0.0209 - accuracy: 0.9934 - val_loss: 0.0429 - val_accuracy: 0.9882\n",
            "Epoch 10/50\n",
            "1313/1313 [==============================] - 37s 28ms/step - loss: 0.0202 - accuracy: 0.9935 - val_loss: 0.0376 - val_accuracy: 0.9896\n",
            "Epoch 11/50\n",
            "1313/1313 [==============================] - 38s 29ms/step - loss: 0.0172 - accuracy: 0.9942 - val_loss: 0.0378 - val_accuracy: 0.9894\n",
            "Epoch 12/50\n",
            "1313/1313 [==============================] - 38s 29ms/step - loss: 0.0152 - accuracy: 0.9947 - val_loss: 0.0414 - val_accuracy: 0.9883\n",
            "Epoch 13/50\n",
            "1313/1313 [==============================] - 37s 28ms/step - loss: 0.0157 - accuracy: 0.9948 - val_loss: 0.0385 - val_accuracy: 0.9898\n",
            "Epoch 14/50\n",
            "1313/1313 [==============================] - 35s 27ms/step - loss: 0.0135 - accuracy: 0.9956 - val_loss: 0.0383 - val_accuracy: 0.9896\n",
            "Epoch 15/50\n",
            "1313/1313 [==============================] - 40s 31ms/step - loss: 0.0128 - accuracy: 0.9957 - val_loss: 0.0401 - val_accuracy: 0.9901\n",
            "Epoch 16/50\n",
            "1313/1313 [==============================] - 37s 28ms/step - loss: 0.0121 - accuracy: 0.9957 - val_loss: 0.0462 - val_accuracy: 0.9888\n",
            "Epoch 17/50\n",
            "1313/1313 [==============================] - 36s 28ms/step - loss: 0.0130 - accuracy: 0.9950 - val_loss: 0.0407 - val_accuracy: 0.9901\n",
            "Epoch 18/50\n",
            "1313/1313 [==============================] - 35s 26ms/step - loss: 0.0114 - accuracy: 0.9962 - val_loss: 0.0525 - val_accuracy: 0.9883\n",
            "Epoch 19/50\n",
            "1313/1313 [==============================] - 41s 31ms/step - loss: 0.0099 - accuracy: 0.9962 - val_loss: 0.0456 - val_accuracy: 0.9903\n",
            "Epoch 20/50\n",
            "1313/1313 [==============================] - 39s 30ms/step - loss: 0.0086 - accuracy: 0.9969 - val_loss: 0.0475 - val_accuracy: 0.9902\n",
            "Epoch 21/50\n",
            "1313/1313 [==============================] - 45s 34ms/step - loss: 0.0098 - accuracy: 0.9964 - val_loss: 0.0409 - val_accuracy: 0.9912\n",
            "Epoch 22/50\n",
            "1313/1313 [==============================] - 38s 29ms/step - loss: 0.0086 - accuracy: 0.9971 - val_loss: 0.0463 - val_accuracy: 0.9903\n",
            "Epoch 23/50\n",
            "1313/1313 [==============================] - 38s 29ms/step - loss: 0.0087 - accuracy: 0.9975 - val_loss: 0.0428 - val_accuracy: 0.9909\n",
            "Epoch 24/50\n",
            "1313/1313 [==============================] - 36s 27ms/step - loss: 0.0081 - accuracy: 0.9971 - val_loss: 0.0508 - val_accuracy: 0.9893\n",
            "Epoch 25/50\n",
            "1313/1313 [==============================] - 35s 27ms/step - loss: 0.0092 - accuracy: 0.9970 - val_loss: 0.0491 - val_accuracy: 0.9898\n",
            "Epoch 26/50\n",
            "1313/1313 [==============================] - 37s 28ms/step - loss: 0.0076 - accuracy: 0.9972 - val_loss: 0.0427 - val_accuracy: 0.9905\n",
            "Epoch 27/50\n",
            "1313/1313 [==============================] - 36s 28ms/step - loss: 0.0077 - accuracy: 0.9973 - val_loss: 0.0496 - val_accuracy: 0.9909\n",
            "Epoch 28/50\n",
            "1313/1313 [==============================] - 36s 28ms/step - loss: 0.0076 - accuracy: 0.9976 - val_loss: 0.0487 - val_accuracy: 0.9902\n",
            "Epoch 29/50\n",
            "1313/1313 [==============================] - 36s 27ms/step - loss: 0.0065 - accuracy: 0.9976 - val_loss: 0.0529 - val_accuracy: 0.9899\n",
            "Epoch 30/50\n",
            "1313/1313 [==============================] - 36s 27ms/step - loss: 0.0075 - accuracy: 0.9976 - val_loss: 0.0475 - val_accuracy: 0.9905\n",
            "Epoch 31/50\n",
            "1313/1313 [==============================] - 35s 27ms/step - loss: 0.0070 - accuracy: 0.9978 - val_loss: 0.0482 - val_accuracy: 0.9910\n",
            "Epoch 32/50\n",
            "1313/1313 [==============================] - 36s 27ms/step - loss: 0.0080 - accuracy: 0.9973 - val_loss: 0.0463 - val_accuracy: 0.9907\n",
            "Epoch 33/50\n",
            "1313/1313 [==============================] - 34s 26ms/step - loss: 0.0065 - accuracy: 0.9979 - val_loss: 0.0503 - val_accuracy: 0.9902\n",
            "Epoch 34/50\n",
            "1313/1313 [==============================] - 38s 29ms/step - loss: 0.0064 - accuracy: 0.9978 - val_loss: 0.0609 - val_accuracy: 0.9884\n",
            "Epoch 35/50\n",
            "1313/1313 [==============================] - 36s 27ms/step - loss: 0.0060 - accuracy: 0.9979 - val_loss: 0.0542 - val_accuracy: 0.9909\n",
            "Epoch 36/50\n",
            "1313/1313 [==============================] - 36s 27ms/step - loss: 0.0060 - accuracy: 0.9981 - val_loss: 0.0525 - val_accuracy: 0.9907\n",
            "Epoch 37/50\n",
            "1313/1313 [==============================] - 39s 29ms/step - loss: 0.0059 - accuracy: 0.9978 - val_loss: 0.0528 - val_accuracy: 0.9896\n",
            "Epoch 38/50\n",
            "1313/1313 [==============================] - 38s 29ms/step - loss: 0.0059 - accuracy: 0.9982 - val_loss: 0.0493 - val_accuracy: 0.9911\n",
            "Epoch 39/50\n",
            "1313/1313 [==============================] - 37s 28ms/step - loss: 0.0071 - accuracy: 0.9974 - val_loss: 0.0463 - val_accuracy: 0.9909\n",
            "Epoch 40/50\n",
            "1313/1313 [==============================] - 37s 28ms/step - loss: 0.0055 - accuracy: 0.9980 - val_loss: 0.0524 - val_accuracy: 0.9906\n",
            "Epoch 41/50\n",
            "1313/1313 [==============================] - 39s 30ms/step - loss: 0.0048 - accuracy: 0.9981 - val_loss: 0.0593 - val_accuracy: 0.9898\n",
            "Epoch 42/50\n",
            "1313/1313 [==============================] - 38s 29ms/step - loss: 0.0053 - accuracy: 0.9981 - val_loss: 0.0584 - val_accuracy: 0.9907\n",
            "Epoch 43/50\n",
            "1313/1313 [==============================] - 38s 29ms/step - loss: 0.0060 - accuracy: 0.9982 - val_loss: 0.0490 - val_accuracy: 0.9899\n",
            "Epoch 44/50\n",
            "1313/1313 [==============================] - 37s 28ms/step - loss: 0.0048 - accuracy: 0.9985 - val_loss: 0.0560 - val_accuracy: 0.9894\n",
            "Epoch 45/50\n",
            "1313/1313 [==============================] - 37s 28ms/step - loss: 0.0062 - accuracy: 0.9981 - val_loss: 0.0492 - val_accuracy: 0.9907\n",
            "Epoch 46/50\n",
            "1313/1313 [==============================] - 40s 31ms/step - loss: 0.0058 - accuracy: 0.9977 - val_loss: 0.0531 - val_accuracy: 0.9908\n",
            "Epoch 47/50\n",
            "1313/1313 [==============================] - 40s 30ms/step - loss: 0.0050 - accuracy: 0.9983 - val_loss: 0.0517 - val_accuracy: 0.9911\n",
            "Epoch 48/50\n",
            "1313/1313 [==============================] - 38s 29ms/step - loss: 0.0064 - accuracy: 0.9978 - val_loss: 0.0614 - val_accuracy: 0.9901\n",
            "Epoch 49/50\n",
            "1313/1313 [==============================] - 38s 29ms/step - loss: 0.0042 - accuracy: 0.9986 - val_loss: 0.0554 - val_accuracy: 0.9904\n",
            "Epoch 50/50\n",
            "1313/1313 [==============================] - 38s 29ms/step - loss: 0.0059 - accuracy: 0.9979 - val_loss: 0.0582 - val_accuracy: 0.9902\n"
          ]
        }
      ]
    },
    {
      "source": [
        "print(y_train.shape)"
      ],
      "cell_type": "code",
      "metadata": {
        "colab": {
          "base_uri": "https://localhost:8080/"
        },
        "id": "JAl59t89qqRQ",
        "outputId": "b7e8a428-033b-4db7-d5dc-9aac38588a61"
      },
      "execution_count": 68,
      "outputs": [
        {
          "output_type": "stream",
          "name": "stdout",
          "text": [
            "(60000, 10)\n"
          ]
        }
      ]
    }
  ]
}